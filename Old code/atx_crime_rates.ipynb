{
 "cells": [
  {
   "cell_type": "code",
   "execution_count": 1,
   "metadata": {},
   "outputs": [],
   "source": [
    "import pandas as pd\n",
    "import numpy as np\n",
    "from usefuls import atx_zip_codes, census_key, zipcode_tabulation_area\n",
    "import requests\n",
    "from census import Census\n",
    "\n",
    "# Prepare dictionary of census data keyed by year\n",
    "# We use what years are available: 2011 - 2016\n",
    "# 2010 gives geography error; zipcode geography was not supported in that year\n",
    "years = list(range(2011,2017))\n",
    "# Census() results\n",
    "cen = dict.fromkeys(years)\n",
    "# cen.acs5.get() results\n",
    "census_data = dict.fromkeys(years)\n",
    "# Dataframe\n"
   ]
  },
  {
   "cell_type": "code",
   "execution_count": 2,
   "metadata": {},
   "outputs": [],
   "source": [
    "# Get census data\n",
    "for y in years:\n",
    "    cen[y] = Census(census_key, year=y)\n",
    "    census_data[y] = cen[y].acs5.get((\"B01003_001E\"), {'for': zipcode_tabulation_area})\n",
    "\n",
    "# Add year to each row-to-by\n",
    "for y in years:\n",
    "    for i, l in enumerate(census_data[y]):\n",
    "            census_data[y][i]['year'] = y\n",
    "\n",
    "# Convert census data to one dataframe\n",
    "census_df = pd.DataFrame()\n",
    "for y in years:\n",
    "    census_df = census_df.append(pd.DataFrame(census_data[y]))\n",
    "\n",
    "census_df = census_df.rename(columns={\"B01003_001E\": \"Population\", \"zip code tabulation area\": \"Zip Code\"})"
   ]
  },
  {
   "cell_type": "code",
   "execution_count": 3,
   "metadata": {},
   "outputs": [],
   "source": [
    "# Convert population and Zip Code to integers\n",
    "census_df['Zip Code'] = census_df['Zip Code'].apply(lambda x : int(x))"
   ]
  },
  {
   "cell_type": "code",
   "execution_count": 4,
   "metadata": {},
   "outputs": [],
   "source": [
    "census_df['Population'] = census_df['Population'].apply(lambda x : int(x))"
   ]
  },
  {
   "cell_type": "code",
   "execution_count": 1,
   "metadata": {},
   "outputs": [
    {
     "ename": "NameError",
     "evalue": "name 'census_df' is not defined",
     "output_type": "error",
     "traceback": [
      "\u001b[0;31m---------------------------------------------------------------------------\u001b[0m",
      "\u001b[0;31mNameError\u001b[0m                                 Traceback (most recent call last)",
      "\u001b[0;32m<ipython-input-1-3cba1e09a582>\u001b[0m in \u001b[0;36m<module>\u001b[0;34m\u001b[0m\n\u001b[0;32m----> 1\u001b[0;31m \u001b[0mcensus_df\u001b[0m\u001b[0;34m.\u001b[0m\u001b[0mhead\u001b[0m\u001b[0;34m(\u001b[0m\u001b[0;34m)\u001b[0m\u001b[0;34m\u001b[0m\u001b[0;34m\u001b[0m\u001b[0m\n\u001b[0m",
      "\u001b[0;31mNameError\u001b[0m: name 'census_df' is not defined"
     ]
    }
   ],
   "source": [
    "census_df.head()"
   ]
  },
  {
   "cell_type": "code",
   "execution_count": 6,
   "metadata": {},
   "outputs": [],
   "source": [
    "reports_df = pd.read_csv('atx_crime_types_2009-2018.csv')"
   ]
  },
  {
   "cell_type": "code",
   "execution_count": 7,
   "metadata": {},
   "outputs": [],
   "source": [
    "# Use only years 2011 - 2016\n",
    "reports_df = reports_df[(reports_df['year'] >= 2011) & (reports_df['year'] <= 2016)]"
   ]
  },
  {
   "cell_type": "code",
   "execution_count": 8,
   "metadata": {},
   "outputs": [
    {
     "data": {
      "text/html": [
       "<div>\n",
       "<style scoped>\n",
       "    .dataframe tbody tr th:only-of-type {\n",
       "        vertical-align: middle;\n",
       "    }\n",
       "\n",
       "    .dataframe tbody tr th {\n",
       "        vertical-align: top;\n",
       "    }\n",
       "\n",
       "    .dataframe thead th {\n",
       "        text-align: right;\n",
       "    }\n",
       "</style>\n",
       "<table border=\"1\" class=\"dataframe\">\n",
       "  <thead>\n",
       "    <tr style=\"text-align: right;\">\n",
       "      <th></th>\n",
       "      <th>year</th>\n",
       "      <th>Zip Code</th>\n",
       "      <th>Highest Offense Description</th>\n",
       "      <th>Reports</th>\n",
       "    </tr>\n",
       "  </thead>\n",
       "  <tbody>\n",
       "    <tr>\n",
       "      <th>729</th>\n",
       "      <td>2011</td>\n",
       "      <td>78610</td>\n",
       "      <td>Burglary</td>\n",
       "      <td>1</td>\n",
       "    </tr>\n",
       "    <tr>\n",
       "      <th>730</th>\n",
       "      <td>2011</td>\n",
       "      <td>78610</td>\n",
       "      <td>Other</td>\n",
       "      <td>5</td>\n",
       "    </tr>\n",
       "    <tr>\n",
       "      <th>731</th>\n",
       "      <td>2011</td>\n",
       "      <td>78610</td>\n",
       "      <td>Theft</td>\n",
       "      <td>1</td>\n",
       "    </tr>\n",
       "    <tr>\n",
       "      <th>732</th>\n",
       "      <td>2011</td>\n",
       "      <td>78613</td>\n",
       "      <td>Aggravated Assault</td>\n",
       "      <td>23</td>\n",
       "    </tr>\n",
       "    <tr>\n",
       "      <th>733</th>\n",
       "      <td>2011</td>\n",
       "      <td>78613</td>\n",
       "      <td>Burglary</td>\n",
       "      <td>16</td>\n",
       "    </tr>\n",
       "  </tbody>\n",
       "</table>\n",
       "</div>"
      ],
      "text/plain": [
       "     year  Zip Code Highest Offense Description  Reports\n",
       "729  2011     78610                    Burglary        1\n",
       "730  2011     78610                       Other        5\n",
       "731  2011     78610                       Theft        1\n",
       "732  2011     78613          Aggravated Assault       23\n",
       "733  2011     78613                    Burglary       16"
      ]
     },
     "execution_count": 8,
     "metadata": {},
     "output_type": "execute_result"
    }
   ],
   "source": [
    "# What we are working with so far\n",
    "reports_df.head()"
   ]
  },
  {
   "cell_type": "code",
   "execution_count": 9,
   "metadata": {},
   "outputs": [],
   "source": [
    "reports_df = reports_df.drop(labels='Highest Offense Description', axis=1)"
   ]
  },
  {
   "cell_type": "code",
   "execution_count": 10,
   "metadata": {},
   "outputs": [],
   "source": [
    "reports_df = reports_df.groupby(['year','Zip Code']).sum().reset_index()"
   ]
  },
  {
   "cell_type": "code",
   "execution_count": 11,
   "metadata": {},
   "outputs": [],
   "source": [
    "crimerate_df = reports_df.merge(census_df, on=['year', 'Zip Code'])"
   ]
  },
  {
   "cell_type": "code",
   "execution_count": 12,
   "metadata": {},
   "outputs": [],
   "source": [
    "# Calculate Crime Rate per 100,000 people\n",
    "crimerate_df['Crime Rate per 100,000 people'] = round(crimerate_df['Reports']/crimerate_df['Population'] * 100_000, 1)"
   ]
  },
  {
   "cell_type": "code",
   "execution_count": 13,
   "metadata": {},
   "outputs": [
    {
     "data": {
      "text/html": [
       "<div>\n",
       "<style scoped>\n",
       "    .dataframe tbody tr th:only-of-type {\n",
       "        vertical-align: middle;\n",
       "    }\n",
       "\n",
       "    .dataframe tbody tr th {\n",
       "        vertical-align: top;\n",
       "    }\n",
       "\n",
       "    .dataframe thead th {\n",
       "        text-align: right;\n",
       "    }\n",
       "</style>\n",
       "<table border=\"1\" class=\"dataframe\">\n",
       "  <thead>\n",
       "    <tr style=\"text-align: right;\">\n",
       "      <th></th>\n",
       "      <th>year</th>\n",
       "      <th>Zip Code</th>\n",
       "      <th>Reports</th>\n",
       "      <th>Population</th>\n",
       "      <th>Crime Rate per 100,000 people</th>\n",
       "    </tr>\n",
       "  </thead>\n",
       "  <tbody>\n",
       "    <tr>\n",
       "      <th>0</th>\n",
       "      <td>2011</td>\n",
       "      <td>78610</td>\n",
       "      <td>7</td>\n",
       "      <td>22052</td>\n",
       "      <td>31.7</td>\n",
       "    </tr>\n",
       "    <tr>\n",
       "      <th>1</th>\n",
       "      <td>2011</td>\n",
       "      <td>78613</td>\n",
       "      <td>449</td>\n",
       "      <td>63901</td>\n",
       "      <td>702.6</td>\n",
       "    </tr>\n",
       "    <tr>\n",
       "      <th>2</th>\n",
       "      <td>2011</td>\n",
       "      <td>78617</td>\n",
       "      <td>1094</td>\n",
       "      <td>18572</td>\n",
       "      <td>5890.6</td>\n",
       "    </tr>\n",
       "    <tr>\n",
       "      <th>3</th>\n",
       "      <td>2011</td>\n",
       "      <td>78652</td>\n",
       "      <td>33</td>\n",
       "      <td>4256</td>\n",
       "      <td>775.4</td>\n",
       "    </tr>\n",
       "    <tr>\n",
       "      <th>4</th>\n",
       "      <td>2011</td>\n",
       "      <td>78653</td>\n",
       "      <td>97</td>\n",
       "      <td>14631</td>\n",
       "      <td>663.0</td>\n",
       "    </tr>\n",
       "  </tbody>\n",
       "</table>\n",
       "</div>"
      ],
      "text/plain": [
       "   year  Zip Code  Reports  Population  Crime Rate per 100,000 people\n",
       "0  2011     78610        7       22052                           31.7\n",
       "1  2011     78613      449       63901                          702.6\n",
       "2  2011     78617     1094       18572                         5890.6\n",
       "3  2011     78652       33        4256                          775.4\n",
       "4  2011     78653       97       14631                          663.0"
      ]
     },
     "execution_count": 13,
     "metadata": {},
     "output_type": "execute_result"
    }
   ],
   "source": [
    "crimerate_df.head()"
   ]
  },
  {
   "cell_type": "code",
   "execution_count": 15,
   "metadata": {},
   "outputs": [],
   "source": [
    "crimerate_df.to_csv('atx_crime_rates_2011-2016.csv', index=False)"
   ]
  },
  {
   "cell_type": "code",
   "execution_count": null,
   "metadata": {},
   "outputs": [],
   "source": []
  }
 ],
 "metadata": {
  "kernelspec": {
   "display_name": "Python 3",
   "language": "python",
   "name": "python3"
  },
  "language_info": {
   "codemirror_mode": {
    "name": "ipython",
    "version": 3
   },
   "file_extension": ".py",
   "mimetype": "text/x-python",
   "name": "python",
   "nbconvert_exporter": "python",
   "pygments_lexer": "ipython3",
   "version": "3.7.1"
  }
 },
 "nbformat": 4,
 "nbformat_minor": 2
}
